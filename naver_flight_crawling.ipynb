{
 "cells": [
  {
   "cell_type": "code",
   "execution_count": 1,
   "id": "initial_id",
   "metadata": {
    "collapsed": true,
    "ExecuteTime": {
     "end_time": "2023-09-06T14:18:56.948562400Z",
     "start_time": "2023-09-06T14:18:56.481374500Z"
    }
   },
   "outputs": [],
   "source": [
    "# 각종 임포트\n",
    "\n",
    "import time\n",
    "from selenium import webdriver\n",
    "from selenium.webdriver.chrome.service import Service\n",
    "from selenium.webdriver.chrome.options import Options\n",
    "from selenium.webdriver.common.by import By\n",
    "from selenium.webdriver.support.ui import WebDriverWait\n",
    "from selenium.webdriver.support import expected_conditions as EC\n",
    "# 크롬 드라이버 자동 업데이트\n",
    "from webdriver_manager.chrome import ChromeDriverManager\n",
    "# 날짜 라이브러리\n",
    "from datetime import datetime"
   ]
  },
  {
   "cell_type": "code",
   "execution_count": 2,
   "outputs": [],
   "source": [
    "# 각종 설정\n",
    "\n",
    "# 브라우저 자동꺼짐 방지\n",
    "chrome_options = Options()\n",
    "# 창없이\n",
    "chrome_options.add_argument('--headless')\n",
    "chrome_options.add_experimental_option(\"detach\", True)\n",
    "# 불필요한 에러 메시지 없애기\n",
    "chrome_options.add_experimental_option(\"excludeSwitches\", ['enable-logging'])\n",
    "service = Service(executable_path='chromedriver.exe')\n",
    "driver = webdriver.Chrome(service=service, options=chrome_options)"
   ],
   "metadata": {
    "collapsed": false,
    "ExecuteTime": {
     "end_time": "2023-09-06T14:18:59.511901700Z",
     "start_time": "2023-09-06T14:18:56.981473700Z"
    }
   },
   "id": "b1f7a8fe493d613b"
  },
  {
   "cell_type": "code",
   "execution_count": 3,
   "outputs": [],
   "source": [
    "# 각종 만든 함수\n",
    "\n",
    "# 페이지 로딩 기다렸다가 클릭\n",
    "def like_text_click_wait(tag, elem):\n",
    "    x_path = '//{0}[contains(text(), \"{1}\")]'.format(tag, elem)\n",
    "    WebDriverWait(driver, 10).until(EC.presence_of_element_located((By.XPATH, x_path)))\n",
    "    driver.find_element(By.XPATH, x_path).click()\n",
    "    print(' {0} 클릭 완료 !!    태그: {1} '.format(elem, x_path))\n",
    "\n",
    "\n",
    "def text_click_wait(tag, elem):\n",
    "    x_path = '//{0}[text() = \"{1}\"]'.format(tag, elem)\n",
    "    WebDriverWait(driver, 10).until(EC.presence_of_element_located((By.XPATH, x_path)))\n",
    "    driver.find_element(By.XPATH, x_path).click()\n",
    "    print(' {0} 클릭 완료 !!    태그: {1} '.format(elem, x_path))"
   ],
   "metadata": {
    "collapsed": false,
    "ExecuteTime": {
     "end_time": "2023-09-06T14:18:59.531849400Z",
     "start_time": "2023-09-06T14:18:59.514893200Z"
    }
   },
   "id": "8acdd8adcbd6dba3"
  },
  {
   "cell_type": "code",
   "execution_count": 4,
   "outputs": [],
   "source": [
    "# 주소 이동\n",
    "url = \"https://flight.naver.com\"\n",
    "driver.get(url)"
   ],
   "metadata": {
    "collapsed": false,
    "ExecuteTime": {
     "end_time": "2023-09-06T14:19:00.579530Z",
     "start_time": "2023-09-06T14:18:59.528856200Z"
    }
   },
   "id": "ebbb6a6220abae02"
  },
  {
   "cell_type": "code",
   "execution_count": 5,
   "outputs": [],
   "source": [
    "# 달력 창 이동\n",
    "begin_date = driver.find_element(By.XPATH, '//button[text() = \"가는 날\"]')\n",
    "begin_date.click()\n",
    "# 출발 일정 으로 내일 날짜 클릭\n",
    "tomorrow = datetime.today().day + 1\n",
    "departDay = driver.find_elements(By.XPATH, '//b[text() = \"{0}\"]'.format(tomorrow))[0]\n",
    "departDay.click()\n",
    "# 도착 일정 으로 3박4일 날짜 클릭\n",
    "arriveDay = driver.find_elements(By.XPATH, '//b[text() = \"{0}\"]'.format(tomorrow + 4))[0]\n",
    "arriveDay.click()"
   ],
   "metadata": {
    "collapsed": false,
    "ExecuteTime": {
     "end_time": "2023-09-06T14:19:02.409146600Z",
     "start_time": "2023-09-06T14:19:00.582522200Z"
    }
   },
   "id": "34985500ecbd76a7"
  },
  {
   "cell_type": "code",
   "execution_count": 6,
   "outputs": [
    {
     "name": "stdout",
     "output_type": "stream",
     "text": [
      " 도착 클릭 완료 !!    태그: //b[text() = \"도착\"] \n",
      " 일본 클릭 완료 !!    태그: //button[text() = \"일본\"] \n",
      " 간사이국제공항 클릭 완료 !!    태그: //i[text() = \"간사이국제공항\"] \n"
     ]
    }
   ],
   "source": [
    "# 도착지 설정 클릭\n",
    "text_click_wait('b', '도착')\n",
    "# destination = driver.find_element(By.XPATH, '//b[text() = \"도착\"]')\n",
    "# destination.click()\n",
    "# 도착 국가 일본 클릭\n",
    "text_click_wait('button', '일본')\n",
    "# 도착 공항 간사이 공항 클릭\n",
    "text_click_wait('i', '간사이국제공항')"
   ],
   "metadata": {
    "collapsed": false,
    "ExecuteTime": {
     "end_time": "2023-09-06T14:19:03.181629600Z",
     "start_time": "2023-09-06T14:19:02.410147500Z"
    }
   },
   "id": "f53afc55ac6e33a3"
  },
  {
   "cell_type": "code",
   "execution_count": 7,
   "outputs": [
    {
     "name": "stdout",
     "output_type": "stream",
     "text": [
      " 검색 클릭 완료 !!    태그: //span[contains(text(), \"검색\")] \n"
     ]
    }
   ],
   "source": [
    "# 해당 일정 으로 조회\n",
    "like_text_click_wait('span', '검색')"
   ],
   "metadata": {
    "collapsed": false,
    "ExecuteTime": {
     "end_time": "2023-09-06T14:19:03.555121900Z",
     "start_time": "2023-09-06T14:19:03.185621200Z"
    }
   },
   "id": "53fa9e228aea28d6"
  },
  {
   "cell_type": "code",
   "execution_count": 8,
   "outputs": [
    {
     "name": "stdout",
     "output_type": "stream",
     "text": [
      "==============================로딩완료==============================\n"
     ]
    }
   ],
   "source": [
    "# 로딩바 사라 질 때까지 대기\n",
    "wait = WebDriverWait(driver, 30)\n",
    "loading_progress = wait.until(EC.presence_of_element_located((By.CLASS_NAME, '''loadingProgress_progress__2ckqJ''')))\n",
    "wait.until(EC.staleness_of(loading_progress))\n",
    "print(\"==============================로딩완료==============================\")"
   ],
   "metadata": {
    "collapsed": false,
    "ExecuteTime": {
     "end_time": "2023-09-06T14:19:18.756138400Z",
     "start_time": "2023-09-06T14:19:03.556118200Z"
    }
   },
   "id": "f2e359abcc32cb47"
  },
  {
   "cell_type": "code",
   "execution_count": 9,
   "outputs": [
    {
     "name": "stdout",
     "output_type": "stream",
     "text": [
      " 포함 클릭 완료 !!    태그: //button[text() = \"포함\"] \n",
      " 제외 클릭 완료 !!    태그: //span[text() = \"제외\"] \n"
     ]
    }
   ],
   "source": [
    "# 카드 혜택 제외\n",
    "text_click_wait('button', '포함')\n",
    "text_click_wait('span', '제외')\n",
    "# 티켓 정보\n",
    "ticket_info = WebDriverWait(driver, 30).until(EC.presence_of_all_elements_located((By.XPATH, '''//div[@class=\"concurrent_ConcurrentItemContainer__2lQVG result\"]''')))\n"
   ],
   "metadata": {
    "collapsed": false,
    "ExecuteTime": {
     "end_time": "2023-09-06T14:19:20.074410700Z",
     "start_time": "2023-09-06T14:19:18.757134400Z"
    }
   },
   "id": "22be88e906918d80"
  },
  {
   "cell_type": "code",
   "execution_count": 10,
   "outputs": [],
   "source": [
    "# 티켓 리스트 생성\n",
    "ticket_list = [str(x+1) + \"번째: \" + ticket_info[x].text.replace(\"\\n\", \" \") for x in range(10)]\n"
   ],
   "metadata": {
    "collapsed": false,
    "ExecuteTime": {
     "end_time": "2023-09-06T14:19:20.472345Z",
     "start_time": "2023-09-06T14:19:20.024542800Z"
    }
   },
   "id": "cf716ae87a42652f"
  },
  {
   "cell_type": "code",
   "execution_count": 11,
   "outputs": [
    {
     "name": "stdout",
     "output_type": "stream",
     "text": [
      "1번째: 에어서울 07:15ICN 09:05KIX 직항, 01시간 50분 17:00KIX 19:10ICN 직항, 02시간 10분 성인/모든 결제수단 이벤트혜택 왕복 254,700원~ 왕복 244,700원~\n",
      "2번째: 에어서울 07:15ICN 09:05KIX 직항, 01시간 50분 피치항공 19:55KIX 21:50ICN 직항, 01시간 55분 성인/모든 결제수단 왕복 255,250원~\n",
      "3번째: 에어서울 07:15ICN 09:05KIX 직항, 01시간 50분 피치항공 18:10KIX 20:05ICN 직항, 01시간 55분 성인/모든 결제수단 왕복 255,250원~\n",
      "4번째: 에어서울 07:15ICN 09:05KIX 직항, 01시간 50분 진에어 19:10KIX 21:00ICN 직항, 01시간 50분 성인/모든 결제수단 이벤트혜택 왕복 271,300원~ 왕복 261,300원~\n",
      "5번째: 진에어 10:10ICN 12:00KIX 직항, 01시간 50분 19:10KIX 21:00ICN 직항, 01시간 50분 성인/모든 결제수단 왕복 272,364원~\n",
      "6번째: 에어서울 07:15ICN 09:05KIX 직항, 01시간 50분 16:15KIX 18:25ICN 직항, 02시간 10분 성인/모든 결제수단 이벤트혜택 왕복 284,100원~ 왕복 274,100원~\n",
      "7번째: 에어서울 07:15ICN 09:05KIX 직항, 01시간 50분 진에어 16:45KIX 18:30ICN 직항, 01시간 45분 성인/모든 결제수단 이벤트혜택 왕복 287,500원~ 왕복 277,500원~\n",
      "8번째: 제주항공 07:10ICN 09:00KIX 직항, 01시간 50분 에어서울 17:00KIX 19:10ICN 직항, 02시간 10분 성인/모든 결제수단 이벤트혜택 왕복 293,600원~ 왕복 283,600원~\n",
      "9번째: 제주항공 07:10ICN 09:00KIX 직항, 01시간 50분 피치항공 19:55KIX 21:50ICN 직항, 01시간 55분 성인/모든 결제수단 왕복 285,679원~\n",
      "10번째: 제주항공 07:10ICN 09:00KIX 직항, 01시간 50분 피치항공 18:10KIX 20:05ICN 직항, 01시간 55분 성인/모든 결제수단 왕복 285,679원~\n"
     ]
    }
   ],
   "source": [
    "# 티켓 리스트 출력\n",
    "print(*ticket_list, sep='\\n')\n",
    "input(\"종료 하려면 아무키나 누르세요\")\n",
    "driver.quit()"
   ],
   "metadata": {
    "collapsed": false,
    "ExecuteTime": {
     "end_time": "2023-09-06T14:19:25.820618300Z",
     "start_time": "2023-09-06T14:19:20.473342200Z"
    }
   },
   "id": "cf7a7b14993b6cd4"
  },
  {
   "cell_type": "code",
   "execution_count": 12,
   "outputs": [],
   "source": [
    "# 230906 TODO : 문장 분리해서 출발 (항공사, 시간, 출국공항, 소요시간) , 도착(항공사, 시간, 출국공항, 소요시간) , 가격 DB에 넣을 수 있게 데이터가공 필요"
   ],
   "metadata": {
    "collapsed": false,
    "ExecuteTime": {
     "end_time": "2023-09-06T14:19:25.831589700Z",
     "start_time": "2023-09-06T14:19:25.814598Z"
    }
   },
   "id": "710491138076b3bd"
  }
 ],
 "metadata": {
  "kernelspec": {
   "display_name": "Python 3",
   "language": "python",
   "name": "python3"
  },
  "language_info": {
   "codemirror_mode": {
    "name": "ipython",
    "version": 2
   },
   "file_extension": ".py",
   "mimetype": "text/x-python",
   "name": "python",
   "nbconvert_exporter": "python",
   "pygments_lexer": "ipython2",
   "version": "2.7.6"
  }
 },
 "nbformat": 4,
 "nbformat_minor": 5
}
