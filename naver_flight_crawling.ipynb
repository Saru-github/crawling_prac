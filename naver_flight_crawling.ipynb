{
 "cells": [
  {
   "cell_type": "code",
   "execution_count": 34,
   "id": "initial_id",
   "metadata": {
    "collapsed": true,
    "ExecuteTime": {
     "end_time": "2023-09-08T07:36:01.327466200Z",
     "start_time": "2023-09-08T07:36:01.271469100Z"
    }
   },
   "outputs": [],
   "source": [
    "# 각종 임포트\n",
    "\n",
    "import time\n",
    "from selenium import webdriver\n",
    "from selenium.webdriver.chrome.service import Service\n",
    "from selenium.webdriver.chrome.options import Options\n",
    "from selenium.webdriver.common.by import By\n",
    "from selenium.webdriver.support.ui import WebDriverWait\n",
    "from selenium.webdriver.support import expected_conditions as EC\n",
    "# 크롬 드라이버 자동 업데이트\n",
    "from webdriver_manager.chrome import ChromeDriverManager\n",
    "# 날짜 라이브러리\n",
    "from datetime import date, timedelta\n",
    "import mysql_auth\n",
    "import pymysql"
   ]
  },
  {
   "cell_type": "code",
   "execution_count": 35,
   "outputs": [],
   "source": [
    "# 각종 설정\n",
    "\n",
    "# 브라우저 자동꺼짐 방지\n",
    "chrome_options = Options()\n",
    "# 창없이\n",
    "chrome_options.add_argument('--headless')\n",
    "chrome_options.add_experimental_option(\"detach\", True)\n",
    "# 불필요한 에러 메시지 없애기\n",
    "chrome_options.add_experimental_option(\"excludeSwitches\", ['enable-logging'])\n",
    "service = Service(executable_path='chromedriver.exe')\n",
    "driver = webdriver.Chrome(service=service, options=chrome_options)"
   ],
   "metadata": {
    "collapsed": false,
    "ExecuteTime": {
     "end_time": "2023-09-08T07:36:03.434583600Z",
     "start_time": "2023-09-08T07:36:01.284470Z"
    }
   },
   "id": "b1f7a8fe493d613b"
  },
  {
   "cell_type": "code",
   "execution_count": 36,
   "outputs": [],
   "source": [
    "# 각종 만든 함수\n",
    "\n",
    "# 페이지 로딩 기다렸다가 클릭\n",
    "def like_text_click_wait(tag, elem):\n",
    "    x_path = '//{0}[contains(text(), \"{1}\")]'.format(tag, elem)\n",
    "    WebDriverWait(driver, 10).until(EC.presence_of_element_located((By.XPATH, x_path)))\n",
    "    driver.find_element(By.XPATH, x_path).click()\n",
    "    print(' {0} 클릭 완료 !!    태그: {1} '.format(elem, x_path))\n",
    "\n",
    "\n",
    "def text_click_wait(tag, elem):\n",
    "    x_path = '//{0}[text() = \"{1}\"]'.format(tag, elem)\n",
    "    WebDriverWait(driver, 10).until(EC.presence_of_element_located((By.XPATH, x_path)))\n",
    "    driver.find_element(By.XPATH, x_path).click()\n",
    "    print(' {0} 클릭 완료 !!    태그: {1} '.format(elem, x_path))"
   ],
   "metadata": {
    "collapsed": false,
    "ExecuteTime": {
     "end_time": "2023-09-08T07:36:03.450576900Z",
     "start_time": "2023-09-08T07:36:03.441580500Z"
    }
   },
   "id": "8acdd8adcbd6dba3"
  },
  {
   "cell_type": "code",
   "execution_count": 37,
   "outputs": [],
   "source": [
    "# 주소 이동\n",
    "url = \"https://flight.naver.com\"\n",
    "driver.get(url)"
   ],
   "metadata": {
    "collapsed": false,
    "ExecuteTime": {
     "end_time": "2023-09-08T07:36:08.507221800Z",
     "start_time": "2023-09-08T07:36:03.454578600Z"
    }
   },
   "id": "ebbb6a6220abae02"
  },
  {
   "cell_type": "code",
   "execution_count": 38,
   "outputs": [],
   "source": [
    "# 달력 창 이동\n",
    "begin_date = driver.find_element(By.XPATH, '//button[text() = \"가는 날\"]')\n",
    "begin_date.click()\n",
    "# 출발 일정 으로 내일 날짜 클릭\n",
    "tomorrow = date.today().day + 1\n",
    "departDay = driver.find_elements(By.XPATH, '//b[text() = \"{0}\"]'.format(tomorrow))[0]\n",
    "departDay.click()\n",
    "# 도착 일정 으로 3박4일 날짜 클릭\n",
    "arriveDay = driver.find_elements(By.XPATH, '//b[text() = \"{0}\"]'.format(tomorrow + 4))[0]\n",
    "arriveDay.click()"
   ],
   "metadata": {
    "collapsed": false,
    "ExecuteTime": {
     "end_time": "2023-09-08T07:36:10.135788600Z",
     "start_time": "2023-09-08T07:36:08.516225100Z"
    }
   },
   "id": "34985500ecbd76a7"
  },
  {
   "cell_type": "code",
   "execution_count": 39,
   "outputs": [
    {
     "name": "stdout",
     "output_type": "stream",
     "text": [
      " 도착 클릭 완료 !!    태그: //b[text() = \"도착\"] \n",
      " 일본 클릭 완료 !!    태그: //button[text() = \"일본\"] \n",
      " 간사이국제공항 클릭 완료 !!    태그: //i[text() = \"간사이국제공항\"] \n"
     ]
    }
   ],
   "source": [
    "# 도착지 설정 클릭\n",
    "text_click_wait('b', '도착')\n",
    "# destination = driver.find_element(By.XPATH, '//b[text() = \"도착\"]')\n",
    "# destination.click()\n",
    "# 도착 국가 일본 클릭\n",
    "text_click_wait('button', '일본')\n",
    "# 도착 공항 간사이 공항 클릭\n",
    "text_click_wait('i', '간사이국제공항')"
   ],
   "metadata": {
    "collapsed": false,
    "ExecuteTime": {
     "end_time": "2023-09-08T07:36:11.046785600Z",
     "start_time": "2023-09-08T07:36:10.137786800Z"
    }
   },
   "id": "f53afc55ac6e33a3"
  },
  {
   "cell_type": "code",
   "execution_count": 40,
   "outputs": [
    {
     "name": "stdout",
     "output_type": "stream",
     "text": [
      " 검색 클릭 완료 !!    태그: //span[contains(text(), \"검색\")] \n"
     ]
    }
   ],
   "source": [
    "# 해당 일정 으로 조회\n",
    "like_text_click_wait('span', '검색')"
   ],
   "metadata": {
    "collapsed": false,
    "ExecuteTime": {
     "end_time": "2023-09-08T07:36:11.843059Z",
     "start_time": "2023-09-08T07:36:11.049784900Z"
    }
   },
   "id": "53fa9e228aea28d6"
  },
  {
   "cell_type": "code",
   "execution_count": 41,
   "outputs": [
    {
     "name": "stdout",
     "output_type": "stream",
     "text": [
      "==============================로딩완료==============================\n"
     ]
    }
   ],
   "source": [
    "# 로딩바 사라 질 때까지 대기\n",
    "wait = WebDriverWait(driver, 30)\n",
    "loading_progress = wait.until(EC.presence_of_element_located((By.CLASS_NAME, '''loadingProgress_progress__2ckqJ''')))\n",
    "wait.until(EC.staleness_of(loading_progress))\n",
    "print(\"==============================로딩완료==============================\")"
   ],
   "metadata": {
    "collapsed": false,
    "ExecuteTime": {
     "end_time": "2023-09-08T07:36:28.464529500Z",
     "start_time": "2023-09-08T07:36:11.842058800Z"
    }
   },
   "id": "f2e359abcc32cb47"
  },
  {
   "cell_type": "code",
   "execution_count": 42,
   "outputs": [
    {
     "name": "stdout",
     "output_type": "stream",
     "text": [
      " 포함 클릭 완료 !!    태그: //button[text() = \"포함\"] \n",
      " 제외 클릭 완료 !!    태그: //span[text() = \"제외\"] \n"
     ]
    }
   ],
   "source": [
    "# 카드 혜택 제외\n",
    "text_click_wait('button', '포함')\n",
    "text_click_wait('span', '제외')\n",
    "# 티켓 정보\n",
    "ticket_info = WebDriverWait(driver, 30).until(EC.presence_of_all_elements_located((By.XPATH, '''//div[@class=\"concurrent_ConcurrentItemContainer__2lQVG result\"]''')))\n"
   ],
   "metadata": {
    "collapsed": false,
    "ExecuteTime": {
     "end_time": "2023-09-08T07:36:31.809651100Z",
     "start_time": "2023-09-08T07:36:28.462535800Z"
    }
   },
   "id": "22be88e906918d80"
  },
  {
   "cell_type": "code",
   "execution_count": 43,
   "outputs": [],
   "source": [
    "# 티켓 리스트 생성\n",
    "ticket_list = [str(x+1) +\" \" + ticket_info[x].text.replace(\"\\n\", \" \") for x in range(10)]\n"
   ],
   "metadata": {
    "collapsed": false,
    "ExecuteTime": {
     "end_time": "2023-09-08T07:36:32.137651700Z",
     "start_time": "2023-09-08T07:36:31.812653Z"
    }
   },
   "id": "cf716ae87a42652f"
  },
  {
   "cell_type": "code",
   "execution_count": 44,
   "outputs": [
    {
     "name": "stdout",
     "output_type": "stream",
     "text": [
      "1 제주항공 13:30ICN 15:20KIX 직항, 01시간 50분 에어부산 18:10KIX 20:10ICN 직항, 02시간 00분 성인/모든 결제수단 왕복 245,990원~\n",
      "2 에어서울 13:15ICN 15:15KIX 직항, 02시간 00분 에어부산 18:10KIX 20:10ICN 직항, 02시간 00분 성인/모든 결제수단 왕복 249,140원~\n",
      "3 제주항공 13:30ICN 15:20KIX 직항, 01시간 50분 피치항공 18:10KIX 20:05ICN 직항, 01시간 55분 성인/모든 결제수단 왕복 250,387원~\n",
      "4 진에어 16:10ICN 18:00KIX 직항, 01시간 50분 에어부산 18:10KIX 20:10ICN 직항, 02시간 00분 성인/모든 결제수단 왕복 255,966원~\n",
      "5 에어서울 13:15ICN 15:15KIX 직항, 02시간 00분 17:00KIX 19:10ICN 직항, 02시간 10분 성인/모든 결제수단 이벤트혜택 왕복 266,000원~ 왕복 256,000원~\n",
      "6 에어서울 13:15ICN 15:15KIX 직항, 02시간 00분 피치항공 18:10KIX 20:05ICN 직항, 01시간 55분 성인/모든 결제수단 왕복 259,945원~\n",
      "7 제주항공 13:30ICN 15:20KIX 직항, 01시간 50분 에어서울 17:00KIX 19:10ICN 직항, 02시간 10분 성인/모든 결제수단 왕복 260,400원~\n",
      "8 진에어 16:10ICN 18:00KIX 직항, 01시간 50분 13:00KIX 14:50ICN 직항, 01시간 50분 성인/모든 결제수단 왕복 262,745원~\n",
      "9 제주항공 13:30ICN 15:20KIX 직항, 01시간 50분 티웨이항공 18:20KIX 20:20ICN 직항, 02시간 00분 성인/모든 결제수단 이벤트혜택 왕복 273,120원~ 왕복 263,120원~\n",
      "10 제주항공 13:30ICN 15:20KIX 직항, 01시간 50분 티웨이항공 15:20KIX 17:20ICN 직항, 02시간 00분 성인/모든 결제수단 이벤트혜택 왕복 273,120원~ 왕복 263,120원~\n"
     ]
    }
   ],
   "source": [
    "# 티켓 리스트 출력\n",
    "print(*ticket_list, sep='\\n')\n",
    "# input(\"종료 하려면 아무키나 누르세요\")\n",
    "# driver.quit()"
   ],
   "metadata": {
    "collapsed": false,
    "ExecuteTime": {
     "end_time": "2023-09-08T07:36:32.156652700Z",
     "start_time": "2023-09-08T07:36:32.140652Z"
    }
   },
   "id": "cf7a7b14993b6cd4"
  },
  {
   "cell_type": "code",
   "execution_count": 45,
   "outputs": [],
   "source": [
    "# 230906 TODO : 문장 분리해서 출발 (항공사, 시간, 출국공항, 소요시간) , 도착(항공사, 시간, 출국공항, 소요시간) , 가격 DB에 넣을 수 있게 데이터가공 필요"
   ],
   "metadata": {
    "collapsed": false,
    "ExecuteTime": {
     "end_time": "2023-09-08T07:36:32.243651300Z",
     "start_time": "2023-09-08T07:36:32.155653900Z"
    }
   },
   "id": "710491138076b3bd"
  },
  {
   "cell_type": "code",
   "execution_count": 46,
   "outputs": [
    {
     "name": "stdout",
     "output_type": "stream",
     "text": [
      "['1 제주항공 13:30ICN 15:20KIX 01시간 50분 에어부산 18:10KIX 20:10ICN 02시간 00분 245990원~', '2 에어서울 13:15ICN 15:15KIX 02시간 00분 에어부산 18:10KIX 20:10ICN 02시간 00분 249140원~', '3 제주항공 13:30ICN 15:20KIX 01시간 50분 피치항공 18:10KIX 20:05ICN 01시간 55분 250387원~', '4 진에어 16:10ICN 18:00KIX 01시간 50분 에어부산 18:10KIX 20:10ICN 02시간 00분 255966원~', '5 에어서울 13:15ICN 15:15KIX 02시간 00분 17:00KIX 19:10ICN 02시간 10분 266000원~ 256000원~', '6 에어서울 13:15ICN 15:15KIX 02시간 00분 피치항공 18:10KIX 20:05ICN 01시간 55분 259945원~', '7 제주항공 13:30ICN 15:20KIX 01시간 50분 에어서울 17:00KIX 19:10ICN 02시간 10분 260400원~', '8 진에어 16:10ICN 18:00KIX 01시간 50분 13:00KIX 14:50ICN 01시간 50분 262745원~', '9 제주항공 13:30ICN 15:20KIX 01시간 50분 티웨이항공 18:20KIX 20:20ICN 02시간 00분 273120원~ 263120원~', '10 제주항공 13:30ICN 15:20KIX 01시간 50분 티웨이항공 15:20KIX 17:20ICN 02시간 00분 273120원~ 263120원~']\n"
     ]
    }
   ],
   "source": [
    "replace_list = []\n",
    "for x in ticket_list:\n",
    "    replace_x = x.replace(\"성인/모든 결제수단\", \"\").replace(\"이벤트혜택\", \"\").replace(\"직항\", \"\").replace(\"왕복\", \"\").replace(\",\", \"\").replace(\"   \", \" \").replace(\"  \", \" \")\n",
    "    replace_list.append(replace_x)\n",
    "print(replace_list)    \n",
    "    \n",
    "    \n",
    "    "
   ],
   "metadata": {
    "collapsed": false,
    "ExecuteTime": {
     "end_time": "2023-09-08T07:36:32.256650500Z",
     "start_time": "2023-09-08T07:36:32.173653100Z"
    }
   },
   "id": "ff92d50df6d4e83d"
  },
  {
   "cell_type": "code",
   "execution_count": 69,
   "outputs": [],
   "source": [
    "login = mysql_auth.lnfo\n",
    "# MySQL 연결\n",
    "conn = pymysql.connect(host=login['host'], port=login['port'],\n",
    "                       user=login['user'], passwd=login['passwd'],\n",
    "                       db=login['db'], charset=login['charset'])\n",
    "# Cursor 생성\n",
    "cur = conn.cursor()\n"
   ],
   "metadata": {
    "collapsed": false,
    "ExecuteTime": {
     "end_time": "2023-09-08T07:49:56.821780800Z",
     "start_time": "2023-09-08T07:49:56.783782400Z"
    }
   },
   "id": "746f17c5af349fec"
  },
  {
   "cell_type": "code",
   "execution_count": 73,
   "outputs": [
    {
     "ename": "IntegrityError",
     "evalue": "(1062, \"Duplicate entry '1-9월9일-ICN-9월13일-KIX' for key 'BD_TICKET_CRAWLING.PRIMARY'\")",
     "output_type": "error",
     "traceback": [
      "\u001B[1;31m---------------------------------------------------------------------------\u001B[0m",
      "\u001B[1;31mIntegrityError\u001B[0m                            Traceback (most recent call last)",
      "Cell \u001B[1;32mIn[73], line 26\u001B[0m\n\u001B[0;32m     23\u001B[0m     price \u001B[38;5;241m=\u001B[39m ticket[\u001B[38;5;241m-\u001B[39m\u001B[38;5;241m1\u001B[39m]\n\u001B[0;32m     25\u001B[0m     \u001B[38;5;66;03m# SQL 실행\u001B[39;00m\n\u001B[1;32m---> 26\u001B[0m     \u001B[43mcur\u001B[49m\u001B[38;5;241;43m.\u001B[39;49m\u001B[43mexecute\u001B[49m\u001B[43m(\u001B[49m\u001B[43msql\u001B[49m\u001B[43m,\u001B[49m\u001B[43m \u001B[49m\u001B[43m(\u001B[49m\u001B[43mrank\u001B[49m\u001B[43m,\u001B[49m\u001B[43m \u001B[49m\u001B[43mdepart_day\u001B[49m\u001B[43m,\u001B[49m\u001B[43m \u001B[49m\u001B[43mdepart_city\u001B[49m\u001B[43m,\u001B[49m\u001B[43m \u001B[49m\u001B[43mdepart_airline\u001B[49m\u001B[43m,\u001B[49m\u001B[43m \u001B[49m\u001B[43mdepart_randing_time\u001B[49m\u001B[43m,\u001B[49m\u001B[43m \u001B[49m\u001B[43marrive_day\u001B[49m\u001B[43m,\u001B[49m\u001B[43m \u001B[49m\u001B[43marrive_city\u001B[49m\u001B[43m,\u001B[49m\u001B[43m \u001B[49m\u001B[43marrive_airline\u001B[49m\u001B[43m,\u001B[49m\u001B[43m \u001B[49m\u001B[43marrive_randing_time\u001B[49m\u001B[43m,\u001B[49m\u001B[43m \u001B[49m\u001B[43mprice\u001B[49m\u001B[43m)\u001B[49m\u001B[43m)\u001B[49m\n\u001B[0;32m     27\u001B[0m \u001B[38;5;66;03m# 데이터 접근\u001B[39;00m\n\u001B[0;32m     28\u001B[0m conn\u001B[38;5;241m.\u001B[39mcommit()\n",
      "File \u001B[1;32mC:\\crawling_prac\\venv\\lib\\site-packages\\pymysql\\cursors.py:153\u001B[0m, in \u001B[0;36mCursor.execute\u001B[1;34m(self, query, args)\u001B[0m\n\u001B[0;32m    149\u001B[0m     \u001B[38;5;28;01mpass\u001B[39;00m\n\u001B[0;32m    151\u001B[0m query \u001B[38;5;241m=\u001B[39m \u001B[38;5;28mself\u001B[39m\u001B[38;5;241m.\u001B[39mmogrify(query, args)\n\u001B[1;32m--> 153\u001B[0m result \u001B[38;5;241m=\u001B[39m \u001B[38;5;28;43mself\u001B[39;49m\u001B[38;5;241;43m.\u001B[39;49m\u001B[43m_query\u001B[49m\u001B[43m(\u001B[49m\u001B[43mquery\u001B[49m\u001B[43m)\u001B[49m\n\u001B[0;32m    154\u001B[0m \u001B[38;5;28mself\u001B[39m\u001B[38;5;241m.\u001B[39m_executed \u001B[38;5;241m=\u001B[39m query\n\u001B[0;32m    155\u001B[0m \u001B[38;5;28;01mreturn\u001B[39;00m result\n",
      "File \u001B[1;32mC:\\crawling_prac\\venv\\lib\\site-packages\\pymysql\\cursors.py:322\u001B[0m, in \u001B[0;36mCursor._query\u001B[1;34m(self, q)\u001B[0m\n\u001B[0;32m    320\u001B[0m conn \u001B[38;5;241m=\u001B[39m \u001B[38;5;28mself\u001B[39m\u001B[38;5;241m.\u001B[39m_get_db()\n\u001B[0;32m    321\u001B[0m \u001B[38;5;28mself\u001B[39m\u001B[38;5;241m.\u001B[39m_clear_result()\n\u001B[1;32m--> 322\u001B[0m \u001B[43mconn\u001B[49m\u001B[38;5;241;43m.\u001B[39;49m\u001B[43mquery\u001B[49m\u001B[43m(\u001B[49m\u001B[43mq\u001B[49m\u001B[43m)\u001B[49m\n\u001B[0;32m    323\u001B[0m \u001B[38;5;28mself\u001B[39m\u001B[38;5;241m.\u001B[39m_do_get_result()\n\u001B[0;32m    324\u001B[0m \u001B[38;5;28;01mreturn\u001B[39;00m \u001B[38;5;28mself\u001B[39m\u001B[38;5;241m.\u001B[39mrowcount\n",
      "File \u001B[1;32mC:\\crawling_prac\\venv\\lib\\site-packages\\pymysql\\connections.py:558\u001B[0m, in \u001B[0;36mConnection.query\u001B[1;34m(self, sql, unbuffered)\u001B[0m\n\u001B[0;32m    556\u001B[0m     sql \u001B[38;5;241m=\u001B[39m sql\u001B[38;5;241m.\u001B[39mencode(\u001B[38;5;28mself\u001B[39m\u001B[38;5;241m.\u001B[39mencoding, \u001B[38;5;124m\"\u001B[39m\u001B[38;5;124msurrogateescape\u001B[39m\u001B[38;5;124m\"\u001B[39m)\n\u001B[0;32m    557\u001B[0m \u001B[38;5;28mself\u001B[39m\u001B[38;5;241m.\u001B[39m_execute_command(COMMAND\u001B[38;5;241m.\u001B[39mCOM_QUERY, sql)\n\u001B[1;32m--> 558\u001B[0m \u001B[38;5;28mself\u001B[39m\u001B[38;5;241m.\u001B[39m_affected_rows \u001B[38;5;241m=\u001B[39m \u001B[38;5;28;43mself\u001B[39;49m\u001B[38;5;241;43m.\u001B[39;49m\u001B[43m_read_query_result\u001B[49m\u001B[43m(\u001B[49m\u001B[43munbuffered\u001B[49m\u001B[38;5;241;43m=\u001B[39;49m\u001B[43munbuffered\u001B[49m\u001B[43m)\u001B[49m\n\u001B[0;32m    559\u001B[0m \u001B[38;5;28;01mreturn\u001B[39;00m \u001B[38;5;28mself\u001B[39m\u001B[38;5;241m.\u001B[39m_affected_rows\n",
      "File \u001B[1;32mC:\\crawling_prac\\venv\\lib\\site-packages\\pymysql\\connections.py:822\u001B[0m, in \u001B[0;36mConnection._read_query_result\u001B[1;34m(self, unbuffered)\u001B[0m\n\u001B[0;32m    820\u001B[0m \u001B[38;5;28;01melse\u001B[39;00m:\n\u001B[0;32m    821\u001B[0m     result \u001B[38;5;241m=\u001B[39m MySQLResult(\u001B[38;5;28mself\u001B[39m)\n\u001B[1;32m--> 822\u001B[0m     \u001B[43mresult\u001B[49m\u001B[38;5;241;43m.\u001B[39;49m\u001B[43mread\u001B[49m\u001B[43m(\u001B[49m\u001B[43m)\u001B[49m\n\u001B[0;32m    823\u001B[0m \u001B[38;5;28mself\u001B[39m\u001B[38;5;241m.\u001B[39m_result \u001B[38;5;241m=\u001B[39m result\n\u001B[0;32m    824\u001B[0m \u001B[38;5;28;01mif\u001B[39;00m result\u001B[38;5;241m.\u001B[39mserver_status \u001B[38;5;129;01mis\u001B[39;00m \u001B[38;5;129;01mnot\u001B[39;00m \u001B[38;5;28;01mNone\u001B[39;00m:\n",
      "File \u001B[1;32mC:\\crawling_prac\\venv\\lib\\site-packages\\pymysql\\connections.py:1200\u001B[0m, in \u001B[0;36mMySQLResult.read\u001B[1;34m(self)\u001B[0m\n\u001B[0;32m   1198\u001B[0m \u001B[38;5;28;01mdef\u001B[39;00m \u001B[38;5;21mread\u001B[39m(\u001B[38;5;28mself\u001B[39m):\n\u001B[0;32m   1199\u001B[0m     \u001B[38;5;28;01mtry\u001B[39;00m:\n\u001B[1;32m-> 1200\u001B[0m         first_packet \u001B[38;5;241m=\u001B[39m \u001B[38;5;28;43mself\u001B[39;49m\u001B[38;5;241;43m.\u001B[39;49m\u001B[43mconnection\u001B[49m\u001B[38;5;241;43m.\u001B[39;49m\u001B[43m_read_packet\u001B[49m\u001B[43m(\u001B[49m\u001B[43m)\u001B[49m\n\u001B[0;32m   1202\u001B[0m         \u001B[38;5;28;01mif\u001B[39;00m first_packet\u001B[38;5;241m.\u001B[39mis_ok_packet():\n\u001B[0;32m   1203\u001B[0m             \u001B[38;5;28mself\u001B[39m\u001B[38;5;241m.\u001B[39m_read_ok_packet(first_packet)\n",
      "File \u001B[1;32mC:\\crawling_prac\\venv\\lib\\site-packages\\pymysql\\connections.py:772\u001B[0m, in \u001B[0;36mConnection._read_packet\u001B[1;34m(self, packet_type)\u001B[0m\n\u001B[0;32m    770\u001B[0m     \u001B[38;5;28;01mif\u001B[39;00m \u001B[38;5;28mself\u001B[39m\u001B[38;5;241m.\u001B[39m_result \u001B[38;5;129;01mis\u001B[39;00m \u001B[38;5;129;01mnot\u001B[39;00m \u001B[38;5;28;01mNone\u001B[39;00m \u001B[38;5;129;01mand\u001B[39;00m \u001B[38;5;28mself\u001B[39m\u001B[38;5;241m.\u001B[39m_result\u001B[38;5;241m.\u001B[39munbuffered_active \u001B[38;5;129;01mis\u001B[39;00m \u001B[38;5;28;01mTrue\u001B[39;00m:\n\u001B[0;32m    771\u001B[0m         \u001B[38;5;28mself\u001B[39m\u001B[38;5;241m.\u001B[39m_result\u001B[38;5;241m.\u001B[39munbuffered_active \u001B[38;5;241m=\u001B[39m \u001B[38;5;28;01mFalse\u001B[39;00m\n\u001B[1;32m--> 772\u001B[0m     \u001B[43mpacket\u001B[49m\u001B[38;5;241;43m.\u001B[39;49m\u001B[43mraise_for_error\u001B[49m\u001B[43m(\u001B[49m\u001B[43m)\u001B[49m\n\u001B[0;32m    773\u001B[0m \u001B[38;5;28;01mreturn\u001B[39;00m packet\n",
      "File \u001B[1;32mC:\\crawling_prac\\venv\\lib\\site-packages\\pymysql\\protocol.py:221\u001B[0m, in \u001B[0;36mMysqlPacket.raise_for_error\u001B[1;34m(self)\u001B[0m\n\u001B[0;32m    219\u001B[0m \u001B[38;5;28;01mif\u001B[39;00m DEBUG:\n\u001B[0;32m    220\u001B[0m     \u001B[38;5;28mprint\u001B[39m(\u001B[38;5;124m\"\u001B[39m\u001B[38;5;124merrno =\u001B[39m\u001B[38;5;124m\"\u001B[39m, errno)\n\u001B[1;32m--> 221\u001B[0m \u001B[43merr\u001B[49m\u001B[38;5;241;43m.\u001B[39;49m\u001B[43mraise_mysql_exception\u001B[49m\u001B[43m(\u001B[49m\u001B[38;5;28;43mself\u001B[39;49m\u001B[38;5;241;43m.\u001B[39;49m\u001B[43m_data\u001B[49m\u001B[43m)\u001B[49m\n",
      "File \u001B[1;32mC:\\crawling_prac\\venv\\lib\\site-packages\\pymysql\\err.py:143\u001B[0m, in \u001B[0;36mraise_mysql_exception\u001B[1;34m(data)\u001B[0m\n\u001B[0;32m    141\u001B[0m \u001B[38;5;28;01mif\u001B[39;00m errorclass \u001B[38;5;129;01mis\u001B[39;00m \u001B[38;5;28;01mNone\u001B[39;00m:\n\u001B[0;32m    142\u001B[0m     errorclass \u001B[38;5;241m=\u001B[39m InternalError \u001B[38;5;28;01mif\u001B[39;00m errno \u001B[38;5;241m<\u001B[39m \u001B[38;5;241m1000\u001B[39m \u001B[38;5;28;01melse\u001B[39;00m OperationalError\n\u001B[1;32m--> 143\u001B[0m \u001B[38;5;28;01mraise\u001B[39;00m errorclass(errno, errval)\n",
      "\u001B[1;31mIntegrityError\u001B[0m: (1062, \"Duplicate entry '1-9월9일-ICN-9월13일-KIX' for key 'BD_TICKET_CRAWLING.PRIMARY'\")"
     ]
    }
   ],
   "source": [
    "sql = \"\"\"\n",
    "        INSERT INTO BD_TICKET_CRAWLING\n",
    "        (TICKET_RANK, DEPT_DAY, DEPT_CITY, DEPT_AIRLINE, DEPT_TIME,\n",
    "         ARRV_DAY, ARRV_CITY, ARRV_AIRLINE, ARRV_TIME, PRICE)\n",
    "        VALUES (%s, %s, %s, %s, %s, %s, %s, %s, %s, %s)\n",
    "        \"\"\"\n",
    "\n",
    "for x in replace_list:\n",
    "    ticket = x.split(\" \")\n",
    "    rank = ticket[0]\n",
    "    month = str(date.today().month)\n",
    "    today = date.today().day\n",
    "    depart_day = month + \"월\" + str(today + 1) + \"일\"\n",
    "    depart_airline = ticket[1]\n",
    "    depart_randing_time = ticket[2][:5]\n",
    "    depart_city = ticket[2][5:]\n",
    "    arrive_day = month + \"월\" + str(today + 5) + \"일\"\n",
    "    if ticket[6][0].isdigit():\n",
    "        ticket.insert(6, depart_airline)\n",
    "    arrive_airline = ticket[6]\n",
    "    arrive_randing_time = ticket[7][:5]\n",
    "    arrive_city = ticket[7][5:]\n",
    "    price = ticket[-1]\n",
    "\n",
    "    # SQL 실행\n",
    "    cur.execute(sql, (rank, depart_day, depart_city, depart_airline, depart_randing_time, arrive_day, arrive_city, arrive_airline, arrive_randing_time, price))\n",
    "# 데이터 접근\n",
    "conn.commit()\n",
    "# 연결 종료\n",
    "conn.close()\n",
    "    "
   ],
   "metadata": {
    "collapsed": false,
    "ExecuteTime": {
     "end_time": "2023-09-08T07:52:35.225671400Z",
     "start_time": "2023-09-08T07:52:35.149082200Z"
    }
   },
   "id": "f72624ceb48b5012"
  },
  {
   "cell_type": "markdown",
   "source": [],
   "metadata": {
    "collapsed": false
   },
   "id": "1c3823af7a31599e"
  }
 ],
 "metadata": {
  "kernelspec": {
   "display_name": "Python 3",
   "language": "python",
   "name": "python3"
  },
  "language_info": {
   "codemirror_mode": {
    "name": "ipython",
    "version": 2
   },
   "file_extension": ".py",
   "mimetype": "text/x-python",
   "name": "python",
   "nbconvert_exporter": "python",
   "pygments_lexer": "ipython2",
   "version": "2.7.6"
  }
 },
 "nbformat": 4,
 "nbformat_minor": 5
}
