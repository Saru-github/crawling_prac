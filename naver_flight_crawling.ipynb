{
 "cells": [
  {
   "cell_type": "code",
   "execution_count": 1,
   "id": "initial_id",
   "metadata": {
    "collapsed": true,
    "ExecuteTime": {
     "end_time": "2023-09-14T05:52:49.782159700Z",
     "start_time": "2023-09-14T05:52:49.103162900Z"
    }
   },
   "outputs": [],
   "source": [
    "# 각종 임포트\n",
    "\n",
    "import time\n",
    "from selenium import webdriver\n",
    "from selenium.webdriver.chrome.service import Service\n",
    "from selenium.webdriver.chrome.options import Options\n",
    "from selenium.webdriver.common.by import By\n",
    "from selenium.webdriver.support.ui import WebDriverWait\n",
    "from selenium.webdriver.support import expected_conditions as EC\n",
    "# 크롬 드라이버 자동 업데이트\n",
    "from webdriver_manager.chrome import ChromeDriverManager\n",
    "# 날짜 라이브러리\n",
    "from datetime import date, timedelta\n",
    "import mysql_auth\n",
    "import pymysql"
   ]
  },
  {
   "cell_type": "code",
   "execution_count": 2,
   "outputs": [],
   "source": [
    "# 각종 설정\n",
    "\n",
    "# 브라우저 자동꺼짐 방지\n",
    "chrome_options = Options()\n",
    "# 창없이\n",
    "chrome_options.add_argument('--headless')\n",
    "chrome_options.add_experimental_option(\"detach\", True)\n",
    "# 불필요한 에러 메시지 없애기\n",
    "chrome_options.add_experimental_option(\"excludeSwitches\", ['enable-logging'])\n",
    "service = Service(executable_path='chromedriver.exe')\n",
    "driver = webdriver.Chrome(service=service, options=chrome_options)"
   ],
   "metadata": {
    "collapsed": false,
    "ExecuteTime": {
     "end_time": "2023-09-14T05:52:52.912834700Z",
     "start_time": "2023-09-14T05:52:49.773160800Z"
    }
   },
   "id": "b1f7a8fe493d613b"
  },
  {
   "cell_type": "code",
   "execution_count": 3,
   "outputs": [],
   "source": [
    "# 각종 만든 함수\n",
    "\n",
    "# 페이지 로딩 기다렸다가 클릭\n",
    "def like_text_click_wait(tag, elem):\n",
    "    x_path = '//{0}[contains(text(), \"{1}\")]'.format(tag, elem)\n",
    "    WebDriverWait(driver, 10).until(EC.presence_of_element_located((By.XPATH, x_path)))\n",
    "    driver.find_element(By.XPATH, x_path).click()\n",
    "    print(' {0} 클릭 완료 !!    태그: {1} '.format(elem, x_path))\n",
    "\n",
    "\n",
    "def text_click_wait(tag, elem):\n",
    "    x_path = '//{0}[text() = \"{1}\"]'.format(tag, elem)\n",
    "    WebDriverWait(driver, 10).until(EC.presence_of_element_located((By.XPATH, x_path)))\n",
    "    driver.find_element(By.XPATH, x_path).click()\n",
    "    print(' {0} 클릭 완료 !!    태그: {1} '.format(elem, x_path))"
   ],
   "metadata": {
    "collapsed": false,
    "ExecuteTime": {
     "end_time": "2023-09-14T05:52:52.927832700Z",
     "start_time": "2023-09-14T05:52:52.912834700Z"
    }
   },
   "id": "8acdd8adcbd6dba3"
  },
  {
   "cell_type": "code",
   "execution_count": 4,
   "outputs": [],
   "source": [
    "# 주소 이동\n",
    "url = \"https://flight.naver.com\"\n",
    "driver.get(url)"
   ],
   "metadata": {
    "collapsed": false,
    "ExecuteTime": {
     "end_time": "2023-09-14T05:52:57.636635500Z",
     "start_time": "2023-09-14T05:52:52.929833400Z"
    }
   },
   "id": "ebbb6a6220abae02"
  },
  {
   "cell_type": "code",
   "execution_count": 5,
   "outputs": [],
   "source": [
    "# 달력 창 이동\n",
    "begin_date = driver.find_element(By.XPATH, '//button[text() = \"가는 날\"]')\n",
    "begin_date.click()\n",
    "# 출발 일정 으로 내일 날짜 클릭\n",
    "tomorrow = date.today().day + 1\n",
    "departDay = driver.find_elements(By.XPATH, '//b[text() = \"{0}\"]'.format(tomorrow))[0]\n",
    "departDay.click()\n",
    "# 도착 일정 으로 3박4일 날짜 클릭\n",
    "arriveDay = driver.find_elements(By.XPATH, '//b[text() = \"{0}\"]'.format(tomorrow + 4))[0]\n",
    "arriveDay.click()"
   ],
   "metadata": {
    "collapsed": false,
    "ExecuteTime": {
     "end_time": "2023-09-14T05:52:59.272465500Z",
     "start_time": "2023-09-14T05:52:57.640638800Z"
    }
   },
   "id": "34985500ecbd76a7"
  },
  {
   "cell_type": "code",
   "execution_count": 6,
   "outputs": [
    {
     "name": "stdout",
     "output_type": "stream",
     "text": [
      " 도착 클릭 완료 !!    태그: //b[text() = \"도착\"] \n",
      " 일본 클릭 완료 !!    태그: //button[text() = \"일본\"] \n",
      " 간사이국제공항 클릭 완료 !!    태그: //i[text() = \"간사이국제공항\"] \n"
     ]
    }
   ],
   "source": [
    "# 도착지 설정 클릭\n",
    "text_click_wait('b', '도착')\n",
    "# destination = driver.find_element(By.XPATH, '//b[text() = \"도착\"]')\n",
    "# destination.click()\n",
    "# 도착 국가 일본 클릭\n",
    "text_click_wait('button', '일본')\n",
    "# 도착 공항 간사이 공항 클릭\n",
    "text_click_wait('i', '간사이국제공항')"
   ],
   "metadata": {
    "collapsed": false,
    "ExecuteTime": {
     "end_time": "2023-09-14T05:53:00.118961600Z",
     "start_time": "2023-09-14T05:52:59.274465400Z"
    }
   },
   "id": "f53afc55ac6e33a3"
  },
  {
   "cell_type": "code",
   "execution_count": 7,
   "outputs": [
    {
     "name": "stdout",
     "output_type": "stream",
     "text": [
      " 검색 클릭 완료 !!    태그: //span[contains(text(), \"검색\")] \n"
     ]
    }
   ],
   "source": [
    "# 해당 일정 으로 조회\n",
    "like_text_click_wait('span', '검색')"
   ],
   "metadata": {
    "collapsed": false,
    "ExecuteTime": {
     "end_time": "2023-09-14T05:53:00.743958700Z",
     "start_time": "2023-09-14T05:53:00.118961600Z"
    }
   },
   "id": "53fa9e228aea28d6"
  },
  {
   "cell_type": "code",
   "execution_count": 8,
   "outputs": [
    {
     "name": "stdout",
     "output_type": "stream",
     "text": [
      "==============================로딩완료==============================\n"
     ]
    }
   ],
   "source": [
    "# 로딩바 사라 질 때까지 대기\n",
    "wait = WebDriverWait(driver, 30)\n",
    "loading_progress = wait.until(EC.presence_of_element_located((By.CLASS_NAME, '''loadingProgress_progress__2ckqJ''')))\n",
    "wait.until(EC.staleness_of(loading_progress))\n",
    "print(\"==============================로딩완료==============================\")"
   ],
   "metadata": {
    "collapsed": false,
    "ExecuteTime": {
     "end_time": "2023-09-14T05:53:20.758853Z",
     "start_time": "2023-09-14T05:53:00.744958900Z"
    }
   },
   "id": "f2e359abcc32cb47"
  },
  {
   "cell_type": "code",
   "execution_count": 9,
   "outputs": [
    {
     "name": "stdout",
     "output_type": "stream",
     "text": [
      " 포함 클릭 완료 !!    태그: //button[text() = \"포함\"] \n",
      " 제외 클릭 완료 !!    태그: //span[text() = \"제외\"] \n"
     ]
    }
   ],
   "source": [
    "# 카드 혜택 제외\n",
    "text_click_wait('button', '포함')\n",
    "text_click_wait('span', '제외')\n",
    "# 티켓 정보\n",
    "ticket_info = WebDriverWait(driver, 30).until(EC.presence_of_all_elements_located((By.XPATH, '''//div[@class=\"concurrent_ConcurrentItemContainer__2lQVG result\"]''')))\n"
   ],
   "metadata": {
    "collapsed": false,
    "ExecuteTime": {
     "end_time": "2023-09-14T05:53:22.445647500Z",
     "start_time": "2023-09-14T05:53:20.751851800Z"
    }
   },
   "id": "22be88e906918d80"
  },
  {
   "cell_type": "code",
   "execution_count": 10,
   "outputs": [],
   "source": [
    "# 티켓 리스트 생성\n",
    "ticket_list = [str(x+1) +\" \" + ticket_info[x].text.replace(\"\\n\", \" \") for x in range(10)]\n"
   ],
   "metadata": {
    "collapsed": false,
    "ExecuteTime": {
     "end_time": "2023-09-14T05:53:22.826644200Z",
     "start_time": "2023-09-14T05:53:22.435642700Z"
    }
   },
   "id": "cf716ae87a42652f"
  },
  {
   "cell_type": "code",
   "execution_count": 11,
   "outputs": [
    {
     "name": "stdout",
     "output_type": "stream",
     "text": [
      "1 에어서울 14:10ICN 16:00KIX 직항, 01시간 50분 제주항공 11:50KIX 13:50ICN 직항, 02시간 00분 성인/모든 결제수단 이벤트혜택 왕복 201,800원~ 왕복 191,800원~\n",
      "2 에어서울 14:10ICN 16:00KIX 직항, 01시간 50분 제주항공 16:20KIX 18:30ICN 직항, 02시간 10분 성인/모든 결제수단 이벤트혜택 왕복 201,800원~ 왕복 191,800원~\n",
      "3 에어서울 14:10ICN 16:00KIX 직항, 01시간 50분 피치항공 18:10KIX 20:05ICN 직항, 01시간 55분 성인/모든 결제수단 왕복 192,114원~\n",
      "4 진에어 07:40ICN 09:30KIX 직항, 01시간 50분 제주항공 11:50KIX 13:50ICN 직항, 02시간 00분 성인/모든 결제수단 이벤트혜택 왕복 203,020원~ 왕복 193,020원~\n",
      "5 진에어 13:45ICN 15:35KIX 직항, 01시간 50분 제주항공 11:50KIX 13:50ICN 직항, 02시간 00분 성인/모든 결제수단 이벤트혜택 왕복 203,020원~ 왕복 193,020원~\n",
      "6 진에어 13:45ICN 15:35KIX 직항, 01시간 50분 피치항공 18:10KIX 20:05ICN 직항, 01시간 55분 성인/모든 결제수단 왕복 193,053원~\n",
      "7 진에어 07:40ICN 09:30KIX 직항, 01시간 50분 피치항공 18:10KIX 20:05ICN 직항, 01시간 55분 성인/모든 결제수단 왕복 193,053원~\n",
      "8 진에어 07:40ICN 09:30KIX 직항, 01시간 50분 19:10KIX 21:00ICN 직항, 01시간 50분 성인/모든 결제수단 이벤트혜택 왕복 205,900원~ 왕복 195,900원~\n",
      "9 진에어 13:45ICN 15:35KIX 직항, 01시간 50분 10:40KIX 12:35ICN 직항, 01시간 55분 성인/모든 결제수단 이벤트혜택 왕복 205,900원~ 왕복 195,900원~\n",
      "10 에어서울 14:10ICN 16:00KIX 직항, 01시간 50분 진에어 19:10KIX 21:00ICN 직항, 01시간 50분 성인/모든 결제수단 왕복 199,639원~\n"
     ]
    }
   ],
   "source": [
    "# 티켓 리스트 출력\n",
    "print(*ticket_list, sep='\\n')\n",
    "# input(\"종료 하려면 아무키나 누르세요\")\n",
    "# driver.quit()"
   ],
   "metadata": {
    "collapsed": false,
    "ExecuteTime": {
     "end_time": "2023-09-14T05:53:22.842646200Z",
     "start_time": "2023-09-14T05:53:22.828644300Z"
    }
   },
   "id": "cf7a7b14993b6cd4"
  },
  {
   "cell_type": "code",
   "execution_count": 12,
   "outputs": [],
   "source": [
    "# 230906 TODO : 문장 분리해서 출발 (항공사, 시간, 출국공항, 소요시간) , 도착(항공사, 시간, 출국공항, 소요시간) , 가격 DB에 넣을 수 있게 데이터가공 필요"
   ],
   "metadata": {
    "collapsed": false,
    "ExecuteTime": {
     "end_time": "2023-09-14T05:53:22.916670300Z",
     "start_time": "2023-09-14T05:53:22.843645900Z"
    }
   },
   "id": "710491138076b3bd"
  },
  {
   "cell_type": "code",
   "execution_count": 13,
   "outputs": [
    {
     "name": "stdout",
     "output_type": "stream",
     "text": [
      "['1 에어서울 14:10ICN 16:00KIX 01시간 50분 제주항공 11:50KIX 13:50ICN 02시간 00분 201800원~ 191800원~', '2 에어서울 14:10ICN 16:00KIX 01시간 50분 제주항공 16:20KIX 18:30ICN 02시간 10분 201800원~ 191800원~', '3 에어서울 14:10ICN 16:00KIX 01시간 50분 피치항공 18:10KIX 20:05ICN 01시간 55분 192114원~', '4 진에어 07:40ICN 09:30KIX 01시간 50분 제주항공 11:50KIX 13:50ICN 02시간 00분 203020원~ 193020원~', '5 진에어 13:45ICN 15:35KIX 01시간 50분 제주항공 11:50KIX 13:50ICN 02시간 00분 203020원~ 193020원~', '6 진에어 13:45ICN 15:35KIX 01시간 50분 피치항공 18:10KIX 20:05ICN 01시간 55분 193053원~', '7 진에어 07:40ICN 09:30KIX 01시간 50분 피치항공 18:10KIX 20:05ICN 01시간 55분 193053원~', '8 진에어 07:40ICN 09:30KIX 01시간 50분 19:10KIX 21:00ICN 01시간 50분 205900원~ 195900원~', '9 진에어 13:45ICN 15:35KIX 01시간 50분 10:40KIX 12:35ICN 01시간 55분 205900원~ 195900원~', '10 에어서울 14:10ICN 16:00KIX 01시간 50분 진에어 19:10KIX 21:00ICN 01시간 50분 199639원~']\n"
     ]
    }
   ],
   "source": [
    "replace_list = []\n",
    "for x in ticket_list:\n",
    "    replace_x = x.replace(\"성인/모든 결제수단\", \"\").replace(\"이벤트혜택\", \"\").replace(\"직항\", \"\").replace(\"왕복\", \"\").replace(\",\", \"\").replace(\"   \", \" \").replace(\"  \", \" \")\n",
    "    replace_list.append(replace_x)\n",
    "print(replace_list)    \n",
    "    \n",
    "    \n",
    "    "
   ],
   "metadata": {
    "collapsed": false,
    "ExecuteTime": {
     "end_time": "2023-09-14T05:53:22.918642600Z",
     "start_time": "2023-09-14T05:53:22.859643200Z"
    }
   },
   "id": "ff92d50df6d4e83d"
  },
  {
   "cell_type": "code",
   "execution_count": 14,
   "outputs": [],
   "source": [
    "login = mysql_auth.lnfo\n",
    "# MySQL 연결\n",
    "conn = pymysql.connect(host=login['host'], port=login['port'],\n",
    "                       user=login['user'], passwd=login['passwd'],\n",
    "                       db=login['db'], charset=login['charset'])\n",
    "# Cursor 생성\n",
    "cur = conn.cursor()\n"
   ],
   "metadata": {
    "collapsed": false,
    "ExecuteTime": {
     "end_time": "2023-09-14T05:53:23.012643900Z",
     "start_time": "2023-09-14T05:53:22.878644100Z"
    }
   },
   "id": "746f17c5af349fec"
  },
  {
   "cell_type": "code",
   "execution_count": 15,
   "outputs": [],
   "source": [
    "sql = \"\"\"\n",
    "        INSERT INTO BD_TICKET_CRAWLING\n",
    "        (TICKET_RANK, DEPT_DAY, DEPT_CITY, DEPT_AIRLINE, DEPT_TIME,\n",
    "         ARRV_DAY, ARRV_CITY, ARRV_AIRLINE, ARRV_TIME, PRICE)\n",
    "        VALUES (%s, %s, %s, %s, %s, %s, %s, %s, %s, %s)\n",
    "        \"\"\"\n",
    "\n",
    "for x in replace_list:\n",
    "    ticket = x.split(\" \")\n",
    "    rank = ticket[0]\n",
    "    month = str(date.today().month)\n",
    "    today = date.today().day\n",
    "    depart_day = month + \"월\" + str(today + 1) + \"일\"\n",
    "    depart_airline = ticket[1]\n",
    "    depart_randing_time = ticket[2][:5]\n",
    "    depart_city = ticket[2][5:]\n",
    "    arrive_day = month + \"월\" + str(today + 5) + \"일\"\n",
    "    if ticket[6][0].isdigit():\n",
    "        ticket.insert(6, depart_airline)\n",
    "    arrive_airline = ticket[6]\n",
    "    arrive_randing_time = ticket[7][:5]\n",
    "    arrive_city = ticket[7][5:]\n",
    "    price = ticket[-1]\n",
    "\n",
    "    # SQL 실행\n",
    "    cur.execute(sql, (rank, depart_day, depart_city, depart_airline, depart_randing_time, arrive_day, arrive_city, arrive_airline, arrive_randing_time, price))\n",
    "# 데이터 접근\n",
    "conn.commit()\n",
    "# 연결 종료\n",
    "conn.close()\n",
    "    "
   ],
   "metadata": {
    "collapsed": false,
    "ExecuteTime": {
     "end_time": "2023-09-14T05:53:23.032682300Z",
     "start_time": "2023-09-14T05:53:22.970643700Z"
    }
   },
   "id": "f72624ceb48b5012"
  },
  {
   "cell_type": "markdown",
   "source": [],
   "metadata": {
    "collapsed": false
   },
   "id": "1c3823af7a31599e"
  }
 ],
 "metadata": {
  "kernelspec": {
   "display_name": "Python 3",
   "language": "python",
   "name": "python3"
  },
  "language_info": {
   "codemirror_mode": {
    "name": "ipython",
    "version": 2
   },
   "file_extension": ".py",
   "mimetype": "text/x-python",
   "name": "python",
   "nbconvert_exporter": "python",
   "pygments_lexer": "ipython2",
   "version": "2.7.6"
  }
 },
 "nbformat": 4,
 "nbformat_minor": 5
}
